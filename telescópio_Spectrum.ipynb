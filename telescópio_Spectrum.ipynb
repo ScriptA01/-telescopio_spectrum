{
  "cells": [
    {
      "cell_type": "markdown",
      "metadata": {
        "id": "view-in-github",
        "colab_type": "text"
      },
      "source": [
        "<a href=\"https://colab.research.google.com/github/ScriptA01/-telescopio_spectrum/blob/main/telesc%C3%B3pio_Spectrum.ipynb\" target=\"_parent\"><img src=\"https://colab.research.google.com/assets/colab-badge.svg\" alt=\"Open In Colab\"/></a>"
      ]
    },
    {
      "cell_type": "markdown",
      "metadata": {
        "id": "cYRUDNb7Uwzj"
      },
      "source": [
        "# **Sejam bem vindos a física de particulas**\n",
        "\n",
        "Nesta tarefa, vamos usar um conjunto de dados da Nasa, mais especificamente do telescópio Spectrum onde temos informações que determinam se um registro se trata de *raio Gama (um fóton, emitido a partir da fusão de proton e neutron que geraram um dêuteron)* ou *Hadron (particulas que interagem por meio de força nuclear)* .  \n",
        "\n",
        "A entrega deverá ser individual e utilizando Colab, não esqueça do seu nome e RA na entrega e de compartilhar comigo seu colab. \n",
        "\n",
        "PS: Não se assustem com a complexidade do dado, façam o que aprenderam em aula.\n",
        "\n",
        "Infelizmente a única referencia de valor que encontrei foi em inglês:  https://www.sciencedirect.com/science/article/abs/pii/S0168900222004247"
      ]
    },
    {
      "cell_type": "markdown",
      "source": [
        "# **Integrantes do time**\n",
        "\n",
        "Nome: Nicolas Bernardo Gonçalves de Souza\n",
        "\n",
        "\n",
        "\n",
        "Nome: Leonardo Ferreira Mendes\n",
        "\n",
        "\n",
        "\n",
        "Nome: Marcio Roberto de Souza Filho\n",
        "\n",
        "\n",
        "Nome: Alessandro Silva\n",
        "\n",
        "\n",
        "\n",
        "Nome: Guilherme Mario Macedo de Assis\n",
        "\n"
      ],
      "metadata": {
        "id": "kh2GCvWR6zOE"
      }
    },
    {
      "cell_type": "code",
      "execution_count": null,
      "metadata": {
        "id": "VjL0Zi_CUwzs"
      },
      "outputs": [],
      "source": [
        "import pandas as pd\n",
        "import numpy as np\n",
        "from pydrive.auth import GoogleAuth \n",
        "from pydrive.drive import GoogleDrive \n",
        "from google.colab import auth \n",
        "from oauth2client.client import GoogleCredentials\n",
        "import matplotlib.pyplot as plt\n",
        "import seaborn as sns\n",
        "\n",
        "\n",
        "auth.authenticate_user() \n",
        "gauth = GoogleAuth() \n",
        "gauth.credentials = GoogleCredentials.get_application_default() \n",
        "drive = GoogleDrive(gauth)"
      ]
    },
    {
      "cell_type": "code",
      "execution_count": null,
      "metadata": {
        "id": "CLVKcrYXUwzu",
        "colab": {
          "base_uri": "https://localhost:8080/"
        },
        "outputId": "c79def6e-2559-4216-bc95-f70e7439ad0c"
      },
      "outputs": [
        {
          "output_type": "execute_result",
          "data": {
            "text/plain": [
              "(19020, 11)"
            ]
          },
          "metadata": {},
          "execution_count": 2
        }
      ],
      "source": [
        "# Baixa os dados de treinamento\n",
        "link = \"https://drive.google.com/file/d/12NghHZhyGTmxFOnRSHKZr44zj2uhISu1/view?usp=share_link\"\n",
        "id = link.split(\"/\")[-2]\n",
        "downloaded = drive.CreateFile({'id':id})\n",
        "downloaded.GetContentFile('telescope.csv')\n",
        "df = pd.read_csv('telescope.csv')\n",
        "df.shape"
      ]
    },
    {
      "cell_type": "code",
      "source": [
        "df.sample(5) #Verifica os cabeçalhos para saber se tenho que transformar variáveis objeto em categórica"
      ],
      "metadata": {
        "id": "XU4Y0TOS7-32",
        "colab": {
          "base_uri": "https://localhost:8080/",
          "height": 206
        },
        "outputId": "c2b54cf0-e781-497e-df02-d95d8cc6f820"
      },
      "execution_count": null,
      "outputs": [
        {
          "output_type": "execute_result",
          "data": {
            "text/plain": [
              "        fLength   fWidth   fSize   fConc  fConc1     fAsym   fM3Long  \\\n",
              "7104    32.1014  22.8106  3.1340  0.2203  0.1201    5.1226   -7.4837   \n",
              "10896   43.4800   8.6907  2.5347  0.3971  0.2117   42.5859  -22.1743   \n",
              "9715   154.0370  17.3139  2.9292  0.2719  0.1560  113.9150  118.9650   \n",
              "17239   35.1379   6.4970  2.7193  0.5954  0.3273   26.7800   21.5213   \n",
              "2336    25.1407  10.8048  2.3865  0.5626  0.3593    4.0279   17.9199   \n",
              "\n",
              "       fM3Trans   fAlpha     fDist class  \n",
              "7104    12.1902   4.9770  155.6500     g  \n",
              "10896   -5.9437   1.7010  180.0130     g  \n",
              "9715   -12.6074  50.7380   71.8962     g  \n",
              "17239   -8.2411  46.0560  234.2070     h  \n",
              "2336    10.9738   2.4381  171.2120     g  "
            ],
            "text/html": [
              "\n",
              "  <div id=\"df-2499495e-9916-4757-b5f2-4623e8d9e694\">\n",
              "    <div class=\"colab-df-container\">\n",
              "      <div>\n",
              "<style scoped>\n",
              "    .dataframe tbody tr th:only-of-type {\n",
              "        vertical-align: middle;\n",
              "    }\n",
              "\n",
              "    .dataframe tbody tr th {\n",
              "        vertical-align: top;\n",
              "    }\n",
              "\n",
              "    .dataframe thead th {\n",
              "        text-align: right;\n",
              "    }\n",
              "</style>\n",
              "<table border=\"1\" class=\"dataframe\">\n",
              "  <thead>\n",
              "    <tr style=\"text-align: right;\">\n",
              "      <th></th>\n",
              "      <th>fLength</th>\n",
              "      <th>fWidth</th>\n",
              "      <th>fSize</th>\n",
              "      <th>fConc</th>\n",
              "      <th>fConc1</th>\n",
              "      <th>fAsym</th>\n",
              "      <th>fM3Long</th>\n",
              "      <th>fM3Trans</th>\n",
              "      <th>fAlpha</th>\n",
              "      <th>fDist</th>\n",
              "      <th>class</th>\n",
              "    </tr>\n",
              "  </thead>\n",
              "  <tbody>\n",
              "    <tr>\n",
              "      <th>7104</th>\n",
              "      <td>32.1014</td>\n",
              "      <td>22.8106</td>\n",
              "      <td>3.1340</td>\n",
              "      <td>0.2203</td>\n",
              "      <td>0.1201</td>\n",
              "      <td>5.1226</td>\n",
              "      <td>-7.4837</td>\n",
              "      <td>12.1902</td>\n",
              "      <td>4.9770</td>\n",
              "      <td>155.6500</td>\n",
              "      <td>g</td>\n",
              "    </tr>\n",
              "    <tr>\n",
              "      <th>10896</th>\n",
              "      <td>43.4800</td>\n",
              "      <td>8.6907</td>\n",
              "      <td>2.5347</td>\n",
              "      <td>0.3971</td>\n",
              "      <td>0.2117</td>\n",
              "      <td>42.5859</td>\n",
              "      <td>-22.1743</td>\n",
              "      <td>-5.9437</td>\n",
              "      <td>1.7010</td>\n",
              "      <td>180.0130</td>\n",
              "      <td>g</td>\n",
              "    </tr>\n",
              "    <tr>\n",
              "      <th>9715</th>\n",
              "      <td>154.0370</td>\n",
              "      <td>17.3139</td>\n",
              "      <td>2.9292</td>\n",
              "      <td>0.2719</td>\n",
              "      <td>0.1560</td>\n",
              "      <td>113.9150</td>\n",
              "      <td>118.9650</td>\n",
              "      <td>-12.6074</td>\n",
              "      <td>50.7380</td>\n",
              "      <td>71.8962</td>\n",
              "      <td>g</td>\n",
              "    </tr>\n",
              "    <tr>\n",
              "      <th>17239</th>\n",
              "      <td>35.1379</td>\n",
              "      <td>6.4970</td>\n",
              "      <td>2.7193</td>\n",
              "      <td>0.5954</td>\n",
              "      <td>0.3273</td>\n",
              "      <td>26.7800</td>\n",
              "      <td>21.5213</td>\n",
              "      <td>-8.2411</td>\n",
              "      <td>46.0560</td>\n",
              "      <td>234.2070</td>\n",
              "      <td>h</td>\n",
              "    </tr>\n",
              "    <tr>\n",
              "      <th>2336</th>\n",
              "      <td>25.1407</td>\n",
              "      <td>10.8048</td>\n",
              "      <td>2.3865</td>\n",
              "      <td>0.5626</td>\n",
              "      <td>0.3593</td>\n",
              "      <td>4.0279</td>\n",
              "      <td>17.9199</td>\n",
              "      <td>10.9738</td>\n",
              "      <td>2.4381</td>\n",
              "      <td>171.2120</td>\n",
              "      <td>g</td>\n",
              "    </tr>\n",
              "  </tbody>\n",
              "</table>\n",
              "</div>\n",
              "      <button class=\"colab-df-convert\" onclick=\"convertToInteractive('df-2499495e-9916-4757-b5f2-4623e8d9e694')\"\n",
              "              title=\"Convert this dataframe to an interactive table.\"\n",
              "              style=\"display:none;\">\n",
              "        \n",
              "  <svg xmlns=\"http://www.w3.org/2000/svg\" height=\"24px\"viewBox=\"0 0 24 24\"\n",
              "       width=\"24px\">\n",
              "    <path d=\"M0 0h24v24H0V0z\" fill=\"none\"/>\n",
              "    <path d=\"M18.56 5.44l.94 2.06.94-2.06 2.06-.94-2.06-.94-.94-2.06-.94 2.06-2.06.94zm-11 1L8.5 8.5l.94-2.06 2.06-.94-2.06-.94L8.5 2.5l-.94 2.06-2.06.94zm10 10l.94 2.06.94-2.06 2.06-.94-2.06-.94-.94-2.06-.94 2.06-2.06.94z\"/><path d=\"M17.41 7.96l-1.37-1.37c-.4-.4-.92-.59-1.43-.59-.52 0-1.04.2-1.43.59L10.3 9.45l-7.72 7.72c-.78.78-.78 2.05 0 2.83L4 21.41c.39.39.9.59 1.41.59.51 0 1.02-.2 1.41-.59l7.78-7.78 2.81-2.81c.8-.78.8-2.07 0-2.86zM5.41 20L4 18.59l7.72-7.72 1.47 1.35L5.41 20z\"/>\n",
              "  </svg>\n",
              "      </button>\n",
              "      \n",
              "  <style>\n",
              "    .colab-df-container {\n",
              "      display:flex;\n",
              "      flex-wrap:wrap;\n",
              "      gap: 12px;\n",
              "    }\n",
              "\n",
              "    .colab-df-convert {\n",
              "      background-color: #E8F0FE;\n",
              "      border: none;\n",
              "      border-radius: 50%;\n",
              "      cursor: pointer;\n",
              "      display: none;\n",
              "      fill: #1967D2;\n",
              "      height: 32px;\n",
              "      padding: 0 0 0 0;\n",
              "      width: 32px;\n",
              "    }\n",
              "\n",
              "    .colab-df-convert:hover {\n",
              "      background-color: #E2EBFA;\n",
              "      box-shadow: 0px 1px 2px rgba(60, 64, 67, 0.3), 0px 1px 3px 1px rgba(60, 64, 67, 0.15);\n",
              "      fill: #174EA6;\n",
              "    }\n",
              "\n",
              "    [theme=dark] .colab-df-convert {\n",
              "      background-color: #3B4455;\n",
              "      fill: #D2E3FC;\n",
              "    }\n",
              "\n",
              "    [theme=dark] .colab-df-convert:hover {\n",
              "      background-color: #434B5C;\n",
              "      box-shadow: 0px 1px 3px 1px rgba(0, 0, 0, 0.15);\n",
              "      filter: drop-shadow(0px 1px 2px rgba(0, 0, 0, 0.3));\n",
              "      fill: #FFFFFF;\n",
              "    }\n",
              "  </style>\n",
              "\n",
              "      <script>\n",
              "        const buttonEl =\n",
              "          document.querySelector('#df-2499495e-9916-4757-b5f2-4623e8d9e694 button.colab-df-convert');\n",
              "        buttonEl.style.display =\n",
              "          google.colab.kernel.accessAllowed ? 'block' : 'none';\n",
              "\n",
              "        async function convertToInteractive(key) {\n",
              "          const element = document.querySelector('#df-2499495e-9916-4757-b5f2-4623e8d9e694');\n",
              "          const dataTable =\n",
              "            await google.colab.kernel.invokeFunction('convertToInteractive',\n",
              "                                                     [key], {});\n",
              "          if (!dataTable) return;\n",
              "\n",
              "          const docLinkHtml = 'Like what you see? Visit the ' +\n",
              "            '<a target=\"_blank\" href=https://colab.research.google.com/notebooks/data_table.ipynb>data table notebook</a>'\n",
              "            + ' to learn more about interactive tables.';\n",
              "          element.innerHTML = '';\n",
              "          dataTable['output_type'] = 'display_data';\n",
              "          await google.colab.output.renderOutput(dataTable, element);\n",
              "          const docLink = document.createElement('div');\n",
              "          docLink.innerHTML = docLinkHtml;\n",
              "          element.appendChild(docLink);\n",
              "        }\n",
              "      </script>\n",
              "    </div>\n",
              "  </div>\n",
              "  "
            ]
          },
          "metadata": {},
          "execution_count": 3
        }
      ]
    },
    {
      "cell_type": "code",
      "source": [
        "df.columns = ['fLength', 'fWidth', 'fSize',\t'fConc',\t'fConc1',\t'fAsym',\t'fM3Long',\t'fM3Trans',\t'fAlpha',\t'fDist' ,'classific'] #A coluna class estava dando erro de sintaxe então troquei o nome dela"
      ],
      "metadata": {
        "id": "d5DaOTM1P4BV"
      },
      "execution_count": null,
      "outputs": []
    },
    {
      "cell_type": "code",
      "source": [
        "df.classific.value_counts() #Verificando quantos valores tenho de cada para depois definir qual virou 1 e qual virou 0"
      ],
      "metadata": {
        "colab": {
          "base_uri": "https://localhost:8080/"
        },
        "id": "T-h8RFcNPa18",
        "outputId": "c7767f7c-4359-457e-832a-45d64d8f6b00"
      },
      "execution_count": null,
      "outputs": [
        {
          "output_type": "execute_result",
          "data": {
            "text/plain": [
              "g    12332\n",
              "h     6688\n",
              "Name: classific, dtype: int64"
            ]
          },
          "metadata": {},
          "execution_count": 5
        }
      ]
    },
    {
      "cell_type": "code",
      "source": [
        "objlist = df.select_dtypes(include='object').columns #Seleciono as colunas objeto"
      ],
      "metadata": {
        "id": "2DAu-RMK9zF-"
      },
      "execution_count": null,
      "outputs": []
    },
    {
      "cell_type": "code",
      "source": [
        "for i in objlist:\n",
        "  df[i] = df[i].astype('category')\n",
        "  df[i] = df[i].cat.codes\n",
        "\n",
        "#Transformo colunas objeto em categóricas"
      ],
      "metadata": {
        "id": "jrqledr38ra8"
      },
      "execution_count": null,
      "outputs": []
    },
    {
      "cell_type": "code",
      "source": [
        "df.sample(5) #Verifico como ficaram os valores"
      ],
      "metadata": {
        "colab": {
          "base_uri": "https://localhost:8080/",
          "height": 206
        },
        "id": "4v3xBsLT92K0",
        "outputId": "5f5b940e-2491-4a34-a7e0-974a3d4f8ba1"
      },
      "execution_count": null,
      "outputs": [
        {
          "output_type": "execute_result",
          "data": {
            "text/plain": [
              "       fLength   fWidth   fSize   fConc  fConc1    fAsym  fM3Long  fM3Trans  \\\n",
              "6162   32.8666  17.7862  2.3683  0.4797  0.2420 -29.6960  -9.0224   12.1372   \n",
              "13350  60.8079  18.2385  2.9456  0.3161  0.1690  60.9532  59.0673  -16.1833   \n",
              "4277   23.8603  14.8311  2.4224  0.5104  0.2703  -9.5178 -12.7220   12.4322   \n",
              "11666  20.2153  12.2239  2.3170  0.4964  0.2964   0.3888   3.5360   10.8678   \n",
              "14183  85.5400  37.1281  3.3141  0.1669  0.0879  -2.9802  61.0820   30.6979   \n",
              "\n",
              "        fAlpha     fDist  classific  \n",
              "6162   58.6010   68.4377          0  \n",
              "13350   2.6888  242.2668          1  \n",
              "4277    0.5570   98.4508          0  \n",
              "11666  39.3447   57.3510          0  \n",
              "14183  70.2363  148.2932          1  "
            ],
            "text/html": [
              "\n",
              "  <div id=\"df-7ee3cb65-cfc6-4c4e-a9fa-b25f48a0dad7\">\n",
              "    <div class=\"colab-df-container\">\n",
              "      <div>\n",
              "<style scoped>\n",
              "    .dataframe tbody tr th:only-of-type {\n",
              "        vertical-align: middle;\n",
              "    }\n",
              "\n",
              "    .dataframe tbody tr th {\n",
              "        vertical-align: top;\n",
              "    }\n",
              "\n",
              "    .dataframe thead th {\n",
              "        text-align: right;\n",
              "    }\n",
              "</style>\n",
              "<table border=\"1\" class=\"dataframe\">\n",
              "  <thead>\n",
              "    <tr style=\"text-align: right;\">\n",
              "      <th></th>\n",
              "      <th>fLength</th>\n",
              "      <th>fWidth</th>\n",
              "      <th>fSize</th>\n",
              "      <th>fConc</th>\n",
              "      <th>fConc1</th>\n",
              "      <th>fAsym</th>\n",
              "      <th>fM3Long</th>\n",
              "      <th>fM3Trans</th>\n",
              "      <th>fAlpha</th>\n",
              "      <th>fDist</th>\n",
              "      <th>classific</th>\n",
              "    </tr>\n",
              "  </thead>\n",
              "  <tbody>\n",
              "    <tr>\n",
              "      <th>6162</th>\n",
              "      <td>32.8666</td>\n",
              "      <td>17.7862</td>\n",
              "      <td>2.3683</td>\n",
              "      <td>0.4797</td>\n",
              "      <td>0.2420</td>\n",
              "      <td>-29.6960</td>\n",
              "      <td>-9.0224</td>\n",
              "      <td>12.1372</td>\n",
              "      <td>58.6010</td>\n",
              "      <td>68.4377</td>\n",
              "      <td>0</td>\n",
              "    </tr>\n",
              "    <tr>\n",
              "      <th>13350</th>\n",
              "      <td>60.8079</td>\n",
              "      <td>18.2385</td>\n",
              "      <td>2.9456</td>\n",
              "      <td>0.3161</td>\n",
              "      <td>0.1690</td>\n",
              "      <td>60.9532</td>\n",
              "      <td>59.0673</td>\n",
              "      <td>-16.1833</td>\n",
              "      <td>2.6888</td>\n",
              "      <td>242.2668</td>\n",
              "      <td>1</td>\n",
              "    </tr>\n",
              "    <tr>\n",
              "      <th>4277</th>\n",
              "      <td>23.8603</td>\n",
              "      <td>14.8311</td>\n",
              "      <td>2.4224</td>\n",
              "      <td>0.5104</td>\n",
              "      <td>0.2703</td>\n",
              "      <td>-9.5178</td>\n",
              "      <td>-12.7220</td>\n",
              "      <td>12.4322</td>\n",
              "      <td>0.5570</td>\n",
              "      <td>98.4508</td>\n",
              "      <td>0</td>\n",
              "    </tr>\n",
              "    <tr>\n",
              "      <th>11666</th>\n",
              "      <td>20.2153</td>\n",
              "      <td>12.2239</td>\n",
              "      <td>2.3170</td>\n",
              "      <td>0.4964</td>\n",
              "      <td>0.2964</td>\n",
              "      <td>0.3888</td>\n",
              "      <td>3.5360</td>\n",
              "      <td>10.8678</td>\n",
              "      <td>39.3447</td>\n",
              "      <td>57.3510</td>\n",
              "      <td>0</td>\n",
              "    </tr>\n",
              "    <tr>\n",
              "      <th>14183</th>\n",
              "      <td>85.5400</td>\n",
              "      <td>37.1281</td>\n",
              "      <td>3.3141</td>\n",
              "      <td>0.1669</td>\n",
              "      <td>0.0879</td>\n",
              "      <td>-2.9802</td>\n",
              "      <td>61.0820</td>\n",
              "      <td>30.6979</td>\n",
              "      <td>70.2363</td>\n",
              "      <td>148.2932</td>\n",
              "      <td>1</td>\n",
              "    </tr>\n",
              "  </tbody>\n",
              "</table>\n",
              "</div>\n",
              "      <button class=\"colab-df-convert\" onclick=\"convertToInteractive('df-7ee3cb65-cfc6-4c4e-a9fa-b25f48a0dad7')\"\n",
              "              title=\"Convert this dataframe to an interactive table.\"\n",
              "              style=\"display:none;\">\n",
              "        \n",
              "  <svg xmlns=\"http://www.w3.org/2000/svg\" height=\"24px\"viewBox=\"0 0 24 24\"\n",
              "       width=\"24px\">\n",
              "    <path d=\"M0 0h24v24H0V0z\" fill=\"none\"/>\n",
              "    <path d=\"M18.56 5.44l.94 2.06.94-2.06 2.06-.94-2.06-.94-.94-2.06-.94 2.06-2.06.94zm-11 1L8.5 8.5l.94-2.06 2.06-.94-2.06-.94L8.5 2.5l-.94 2.06-2.06.94zm10 10l.94 2.06.94-2.06 2.06-.94-2.06-.94-.94-2.06-.94 2.06-2.06.94z\"/><path d=\"M17.41 7.96l-1.37-1.37c-.4-.4-.92-.59-1.43-.59-.52 0-1.04.2-1.43.59L10.3 9.45l-7.72 7.72c-.78.78-.78 2.05 0 2.83L4 21.41c.39.39.9.59 1.41.59.51 0 1.02-.2 1.41-.59l7.78-7.78 2.81-2.81c.8-.78.8-2.07 0-2.86zM5.41 20L4 18.59l7.72-7.72 1.47 1.35L5.41 20z\"/>\n",
              "  </svg>\n",
              "      </button>\n",
              "      \n",
              "  <style>\n",
              "    .colab-df-container {\n",
              "      display:flex;\n",
              "      flex-wrap:wrap;\n",
              "      gap: 12px;\n",
              "    }\n",
              "\n",
              "    .colab-df-convert {\n",
              "      background-color: #E8F0FE;\n",
              "      border: none;\n",
              "      border-radius: 50%;\n",
              "      cursor: pointer;\n",
              "      display: none;\n",
              "      fill: #1967D2;\n",
              "      height: 32px;\n",
              "      padding: 0 0 0 0;\n",
              "      width: 32px;\n",
              "    }\n",
              "\n",
              "    .colab-df-convert:hover {\n",
              "      background-color: #E2EBFA;\n",
              "      box-shadow: 0px 1px 2px rgba(60, 64, 67, 0.3), 0px 1px 3px 1px rgba(60, 64, 67, 0.15);\n",
              "      fill: #174EA6;\n",
              "    }\n",
              "\n",
              "    [theme=dark] .colab-df-convert {\n",
              "      background-color: #3B4455;\n",
              "      fill: #D2E3FC;\n",
              "    }\n",
              "\n",
              "    [theme=dark] .colab-df-convert:hover {\n",
              "      background-color: #434B5C;\n",
              "      box-shadow: 0px 1px 3px 1px rgba(0, 0, 0, 0.15);\n",
              "      filter: drop-shadow(0px 1px 2px rgba(0, 0, 0, 0.3));\n",
              "      fill: #FFFFFF;\n",
              "    }\n",
              "  </style>\n",
              "\n",
              "      <script>\n",
              "        const buttonEl =\n",
              "          document.querySelector('#df-7ee3cb65-cfc6-4c4e-a9fa-b25f48a0dad7 button.colab-df-convert');\n",
              "        buttonEl.style.display =\n",
              "          google.colab.kernel.accessAllowed ? 'block' : 'none';\n",
              "\n",
              "        async function convertToInteractive(key) {\n",
              "          const element = document.querySelector('#df-7ee3cb65-cfc6-4c4e-a9fa-b25f48a0dad7');\n",
              "          const dataTable =\n",
              "            await google.colab.kernel.invokeFunction('convertToInteractive',\n",
              "                                                     [key], {});\n",
              "          if (!dataTable) return;\n",
              "\n",
              "          const docLinkHtml = 'Like what you see? Visit the ' +\n",
              "            '<a target=\"_blank\" href=https://colab.research.google.com/notebooks/data_table.ipynb>data table notebook</a>'\n",
              "            + ' to learn more about interactive tables.';\n",
              "          element.innerHTML = '';\n",
              "          dataTable['output_type'] = 'display_data';\n",
              "          await google.colab.output.renderOutput(dataTable, element);\n",
              "          const docLink = document.createElement('div');\n",
              "          docLink.innerHTML = docLinkHtml;\n",
              "          element.appendChild(docLink);\n",
              "        }\n",
              "      </script>\n",
              "    </div>\n",
              "  </div>\n",
              "  "
            ]
          },
          "metadata": {},
          "execution_count": 8
        }
      ]
    },
    {
      "cell_type": "code",
      "source": [
        "df.classific.value_counts() #Verificando quantos valores tenho de cada para depois definir qual virou 1 e qual virou 0"
      ],
      "metadata": {
        "colab": {
          "base_uri": "https://localhost:8080/"
        },
        "id": "1RsUa0uJPdm0",
        "outputId": "b924c0bf-8691-4c31-82c7-4e7eb16fa540"
      },
      "execution_count": null,
      "outputs": [
        {
          "output_type": "execute_result",
          "data": {
            "text/plain": [
              "0    12332\n",
              "1     6688\n",
              "Name: classific, dtype: int64"
            ]
          },
          "metadata": {},
          "execution_count": 9
        }
      ]
    },
    {
      "cell_type": "markdown",
      "source": [
        "Documentando quais valores foram trocados\n",
        "*   0 = g = gama (sinal)\n",
        "*   1 = h = hádron (fundo)\n",
        "\n",
        "\n"
      ],
      "metadata": {
        "id": "eeOc3Uvg99D6"
      }
    },
    {
      "cell_type": "markdown",
      "source": [
        "Treinamento do modelo"
      ],
      "metadata": {
        "id": "Tqzqvxe3_OUr"
      }
    },
    {
      "cell_type": "code",
      "source": [
        "X = df.drop('classific', axis=1) # Retirando a variável target do modelo de treinamento\n",
        "y = df['classific']"
      ],
      "metadata": {
        "id": "U69EW8oH-P9_"
      },
      "execution_count": null,
      "outputs": []
    },
    {
      "cell_type": "code",
      "source": [
        "from sklearn import preprocessing \n",
        "from sklearn.model_selection import train_test_split, cross_val_score\n",
        "from xgboost import XGBClassifier\n",
        "from sklearn import metrics\n",
        "from sklearn.metrics import confusion_matrix, ConfusionMatrixDisplay, classification_report, accuracy_score, recall_score, f1_score, precision_score\n",
        "from sklearn.model_selection import RandomizedSearchCV"
      ],
      "metadata": {
        "id": "2uP8-PMY_7pI"
      },
      "execution_count": null,
      "outputs": []
    },
    {
      "cell_type": "markdown",
      "source": [
        "ABORDAGEM I"
      ],
      "metadata": {
        "id": "trD3OqNtIDLF"
      }
    },
    {
      "cell_type": "code",
      "source": [
        "# Divisão de treino e teste\n",
        "X_train, X_test, y_train, y_test = train_test_split(X, y, test_size=0.3, random_state=987)"
      ],
      "metadata": {
        "id": "ek65QHs2_Y6P"
      },
      "execution_count": null,
      "outputs": []
    },
    {
      "cell_type": "code",
      "source": [
        "from sklearn.linear_model import LogisticRegression\n",
        "from sklearn.tree import DecisionTreeClassifier\n",
        "from sklearn.ensemble import RandomForestClassifier\n",
        "from sklearn.neighbors import KNeighborsClassifier\n",
        "from sklearn.naive_bayes import GaussianNB\n",
        "from sklearn.linear_model import SGDClassifier\n",
        "from sklearn.metrics import accuracy_score, confusion_matrix, classification_report\n",
        "from sklearn import tree"
      ],
      "metadata": {
        "id": "NBE5J0IoArcv"
      },
      "execution_count": null,
      "outputs": []
    },
    {
      "cell_type": "code",
      "source": [
        "#Definição de parâmetros do modelo\n",
        "rf_model = RandomForestClassifier(n_estimators=200, \n",
        "                                  max_depth=4, \n",
        "                                  n_jobs=-1, \n",
        "                                  min_samples_split=2, \n",
        "                                  min_samples_leaf=2,\n",
        "                                  max_features=None)"
      ],
      "metadata": {
        "id": "1iqyYMWvAmpI"
      },
      "execution_count": null,
      "outputs": []
    },
    {
      "cell_type": "code",
      "source": [
        "#Treinando o modelo\n",
        "rf_model.fit(X_train, y_train)\n",
        "y_pred = rf_model.predict(X_test)"
      ],
      "metadata": {
        "id": "Xl2iRxvWA2Z0"
      },
      "execution_count": null,
      "outputs": []
    },
    {
      "cell_type": "code",
      "source": [
        "#Verificando os principais KPIs para entender o quão efetivo é o modelo\n",
        "accuracy = accuracy_score(y_test, y_pred)\n",
        "precision = precision_score(y_test, y_pred, average='macro')\n",
        "recall = recall_score(y_test, y_pred, average='macro')\n",
        "f1 = f1_score(y_test, y_pred, average='macro')\n",
        "\n",
        "print(\"Accuracy:\", accuracy)\n",
        "print(\"Precision:\", precision)\n",
        "print(\"Recall:\", recall)\n",
        "print(\"F1-score:\", f1)"
      ],
      "metadata": {
        "colab": {
          "base_uri": "https://localhost:8080/"
        },
        "id": "oRyjxYe9Dyvm",
        "outputId": "4b52964f-6568-4642-f844-a214ef5de761"
      },
      "execution_count": null,
      "outputs": [
        {
          "output_type": "stream",
          "name": "stdout",
          "text": [
            "Accuracy: 0.8259726603575184\n",
            "Precision: 0.8408485104957961\n",
            "Recall: 0.774643014785245\n",
            "F1-score: 0.792456550476369\n"
          ]
        }
      ]
    },
    {
      "cell_type": "markdown",
      "source": [
        "ABORDAGEM II"
      ],
      "metadata": {
        "id": "CopBnU4FIImc"
      }
    },
    {
      "cell_type": "markdown",
      "source": [
        "Diminui o tamanho do teste para ter mais dados de treino e aumentei a quantidade de estimativas para que tenha um leque maior em que averiguar as predições"
      ],
      "metadata": {
        "id": "Ee6opMmYJuAo"
      }
    },
    {
      "cell_type": "code",
      "source": [
        "# Divisão de treino e teste\n",
        "X_train, X_test, y_train, y_test = train_test_split(X, y, test_size=0.2, random_state=987)"
      ],
      "metadata": {
        "id": "IPxi78fVG0TW"
      },
      "execution_count": null,
      "outputs": []
    },
    {
      "cell_type": "code",
      "source": [
        "#Definição de parâmetros do modelo\n",
        "rf_model = RandomForestClassifier(n_estimators=300, \n",
        "                                  max_depth=4, \n",
        "                                  n_jobs=-1, \n",
        "                                  min_samples_split=2, \n",
        "                                  min_samples_leaf=2,\n",
        "                                  max_features=None)"
      ],
      "metadata": {
        "id": "s55ZP7ZgJJZv"
      },
      "execution_count": null,
      "outputs": []
    },
    {
      "cell_type": "code",
      "source": [
        "#Treinando o modelo\n",
        "rf_model.fit(X_train, y_train)\n",
        "y_pred = rf_model.predict(X_test)"
      ],
      "metadata": {
        "id": "GYPue9pUJLAe"
      },
      "execution_count": null,
      "outputs": []
    },
    {
      "cell_type": "code",
      "source": [
        "#Verificando os principais KPIs para entender o quão efetivo é o modelo\n",
        "accuracy = accuracy_score(y_test, y_pred)\n",
        "precision = precision_score(y_test, y_pred, average='macro')\n",
        "recall = recall_score(y_test, y_pred, average='macro')\n",
        "f1 = f1_score(y_test, y_pred, average='macro')\n",
        "\n",
        "print(\"Accuracy:\", accuracy)\n",
        "print(\"Precision:\", precision)\n",
        "print(\"Recall:\", recall)\n",
        "print(\"F1-score:\", f1)"
      ],
      "metadata": {
        "colab": {
          "base_uri": "https://localhost:8080/"
        },
        "id": "SmLuRZJbJMee",
        "outputId": "82552bc9-fbbf-4c29-8fd8-2cf7ca644837"
      },
      "execution_count": null,
      "outputs": [
        {
          "output_type": "stream",
          "name": "stdout",
          "text": [
            "Accuracy: 0.82465825446898\n",
            "Precision: 0.8438321988597215\n",
            "Recall: 0.7729775602231745\n",
            "F1-score: 0.7909767341393679\n"
          ]
        }
      ]
    },
    {
      "cell_type": "markdown",
      "source": [
        "ABORDAGEM III"
      ],
      "metadata": {
        "id": "7vFX3TtOKD8T"
      }
    },
    {
      "cell_type": "markdown",
      "source": [
        "Diminui mais ainda o numero de teste para ter mais dados para treino e alterei a quantidade de aleatoriedade dos pontos no modelo, como temos 19.020 linhas, utilizei o número 190 pensando em proporção numérica. Aumentei o número de estimativas e a quantidade de níveis que a árvore vai descer, para que tenhamos mais testes e com uma aleatoriedade mais controlada dentro do tamanho do modelo, tomando bastante cuidado com overfitting."
      ],
      "metadata": {
        "id": "qK3AboVOKasn"
      }
    },
    {
      "cell_type": "code",
      "source": [
        "# Divisão de treino e teste\n",
        "X_train, X_test, y_train, y_test = train_test_split(X, y, test_size=0.1, random_state=190)"
      ],
      "metadata": {
        "id": "pfelIdyLJ-n0"
      },
      "execution_count": null,
      "outputs": []
    },
    {
      "cell_type": "code",
      "source": [
        "#Definição de parâmetros do modelo\n",
        "rf_model = RandomForestClassifier(n_estimators=500, \n",
        "                                  max_depth=5, \n",
        "                                  n_jobs=-1, \n",
        "                                  min_samples_split=2, \n",
        "                                  min_samples_leaf=2,\n",
        "                                  max_features=None)"
      ],
      "metadata": {
        "id": "wu7yclQLKJE5"
      },
      "execution_count": null,
      "outputs": []
    },
    {
      "cell_type": "code",
      "source": [
        "#Treinando o modelo\n",
        "rf_model.fit(X_train, y_train)\n",
        "y_pred = rf_model.predict(X_test)"
      ],
      "metadata": {
        "id": "41GqJ2RFKKP0"
      },
      "execution_count": null,
      "outputs": []
    },
    {
      "cell_type": "code",
      "source": [
        "#Verificando os principais KPIs para entender o quão efetivo é o modelo\n",
        "accuracy = accuracy_score(y_test, y_pred)\n",
        "precision = precision_score(y_test, y_pred, average='macro')\n",
        "recall = recall_score(y_test, y_pred, average='macro')\n",
        "f1 = f1_score(y_test, y_pred, average='macro')\n",
        "\n",
        "print(\"Accuracy:\", accuracy)\n",
        "print(\"Precision:\", precision)\n",
        "print(\"Recall:\", recall)\n",
        "print(\"F1-score:\", f1)"
      ],
      "metadata": {
        "colab": {
          "base_uri": "https://localhost:8080/"
        },
        "id": "rDoxpKb4KK-E",
        "outputId": "8e9a1025-774a-437d-b62f-8c1e4728de5c"
      },
      "execution_count": null,
      "outputs": [
        {
          "output_type": "stream",
          "name": "stdout",
          "text": [
            "Accuracy: 0.8391167192429022\n",
            "Precision: 0.8478375155470643\n",
            "Recall: 0.7951789166466171\n",
            "F1-score: 0.8115014153296065\n"
          ]
        }
      ]
    },
    {
      "cell_type": "markdown",
      "source": [
        "CONCLUSÃO\n",
        "---\n",
        "Percebo que os modelos precisam ter dados consideráveis para teste, por conta disso sempre que movimento a quantidade de teste acaba que os KPIs de predição do modelo melhoram, neste em específico movimentei também a quantidade de níveis que a árvore pode descer e números de estimativas que não influenciaram tanto, tudo ficou mais dentro da quantidade de teste que utilizo e a aleatoriedade dos pontos definidos do modelo com o random_state"
      ],
      "metadata": {
        "id": "gdv5FnjaLfqI"
      }
    }
  ],
  "metadata": {
    "kernelspec": {
      "display_name": "base",
      "language": "python",
      "name": "python3"
    },
    "language_info": {
      "name": "python",
      "version": "3.8.5"
    },
    "orig_nbformat": 4,
    "colab": {
      "provenance": [],
      "include_colab_link": true
    }
  },
  "nbformat": 4,
  "nbformat_minor": 0
}